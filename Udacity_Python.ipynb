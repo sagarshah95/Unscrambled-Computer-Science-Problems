{
 "cells": [
  {
   "cell_type": "code",
   "execution_count": 1,
   "metadata": {},
   "outputs": [],
   "source": [
    "my_list = [0, 1, 2, 3, 4, 5]"
   ]
  },
  {
   "cell_type": "code",
   "execution_count": 5,
   "metadata": {},
   "outputs": [
    {
     "name": "stdout",
     "output_type": "stream",
     "text": [
      "The value of item is: 0\n",
      "The value of item is: 1\n",
      "The value of item is: 2\n",
      "The value of item is: 3\n",
      "The value of item is: 4\n",
      "The value of item is: 5\n"
     ]
    }
   ],
   "source": [
    "for item in my_list:\n",
    "    print('The value of item is: ' + str(item))"
   ]
  },
  {
   "cell_type": "code",
   "execution_count": 8,
   "metadata": {},
   "outputs": [
    {
     "name": "stdout",
     "output_type": "stream",
     "text": [
      "The index value is: 0. The value at i is: 0\n",
      "The index value is: 1. The value at i is: 1\n",
      "The index value is: 2. The value at i is: 2\n",
      "The index value is: 3. The value at i is: 3\n",
      "The index value is: 4. The value at i is: 4\n",
      "The index value is: 5. The value at i is: 5\n"
     ]
    }
   ],
   "source": [
    "for i, item in enumerate(my_list):\n",
    "    print('The index value is: ' + str(i) + '. The value at i is: ' + str(item))\n",
    "    "
   ]
  },
  {
   "cell_type": "code",
   "execution_count": 6,
   "metadata": {},
   "outputs": [
    {
     "name": "stdout",
     "output_type": "stream",
     "text": [
      "0\n",
      "1\n",
      "2\n",
      "3\n",
      "4\n",
      "5\n",
      "6\n",
      "7\n",
      "8\n",
      "9\n"
     ]
    }
   ],
   "source": [
    "i = 0\n",
    "while(i < 10):\n",
    "    print(i)\n",
    "    i += 1"
   ]
  },
  {
   "cell_type": "code",
   "execution_count": 7,
   "metadata": {},
   "outputs": [
    {
     "name": "stdout",
     "output_type": "stream",
     "text": [
      "a, jill\n",
      "b, tom\n",
      "c, tim\n"
     ]
    }
   ],
   "source": [
    "my_dict = {'a': 'jill', 'b': 'tom', 'c': 'tim'}\n",
    "for key in my_dict:\n",
    "    print(key + ', ' + my_dict[key])"
   ]
  },
  {
   "cell_type": "code",
   "execution_count": 9,
   "metadata": {},
   "outputs": [],
   "source": [
    "def all_even():\n",
    "    n = 0\n",
    "    while True:\n",
    "        yield n\n",
    "        n += 2"
   ]
  },
  {
   "cell_type": "code",
   "execution_count": 10,
   "metadata": {},
   "outputs": [],
   "source": [
    "my_gen = all_even()"
   ]
  },
  {
   "cell_type": "code",
   "execution_count": 14,
   "metadata": {},
   "outputs": [
    {
     "name": "stdout",
     "output_type": "stream",
     "text": [
      "210\n",
      "212\n",
      "214\n",
      "216\n",
      "218\n",
      "220\n"
     ]
    }
   ],
   "source": [
    "for i in range(6):\n",
    "    print(next(my_gen))"
   ]
  },
  {
   "cell_type": "code",
   "execution_count": 12,
   "metadata": {},
   "outputs": [
    {
     "name": "stdout",
     "output_type": "stream",
     "text": [
      "7\n"
     ]
    }
   ],
   "source": [
    "do_something = 4\n",
    "do_something += 3\n",
    "print(do_something)"
   ]
  },
  {
   "cell_type": "code",
   "execution_count": 15,
   "metadata": {},
   "outputs": [
    {
     "name": "stdout",
     "output_type": "stream",
     "text": [
      "222\n",
      "224\n",
      "226\n",
      "228\n",
      "230\n",
      "232\n",
      "234\n",
      "236\n",
      "238\n",
      "240\n",
      "242\n",
      "244\n",
      "246\n",
      "248\n",
      "250\n",
      "252\n",
      "254\n",
      "256\n",
      "258\n",
      "260\n",
      "262\n",
      "264\n",
      "266\n",
      "268\n",
      "270\n",
      "272\n",
      "274\n",
      "276\n",
      "278\n",
      "280\n",
      "282\n",
      "284\n",
      "286\n",
      "288\n",
      "290\n",
      "292\n",
      "294\n",
      "296\n",
      "298\n",
      "300\n",
      "302\n",
      "304\n",
      "306\n",
      "308\n",
      "310\n",
      "312\n",
      "314\n",
      "316\n",
      "318\n",
      "320\n",
      "322\n",
      "324\n",
      "326\n",
      "328\n",
      "330\n",
      "332\n",
      "334\n",
      "336\n",
      "338\n",
      "340\n",
      "342\n",
      "344\n",
      "346\n",
      "348\n",
      "350\n",
      "352\n",
      "354\n",
      "356\n",
      "358\n",
      "360\n",
      "362\n",
      "364\n",
      "366\n",
      "368\n",
      "370\n",
      "372\n",
      "374\n",
      "376\n",
      "378\n",
      "380\n",
      "382\n",
      "384\n",
      "386\n",
      "388\n",
      "390\n",
      "392\n",
      "394\n",
      "396\n",
      "398\n",
      "400\n",
      "402\n",
      "404\n",
      "406\n",
      "408\n",
      "410\n",
      "412\n",
      "414\n",
      "416\n",
      "418\n",
      "420\n"
     ]
    }
   ],
   "source": [
    "for i in range(100):\n",
    "    print(next(my_gen))"
   ]
  },
  {
   "cell_type": "code",
   "execution_count": null,
   "metadata": {},
   "outputs": [],
   "source": [
    "def check_sudoku(square):\n",
    "    for row in square:\n",
    "        check_list = list(range(1, len(square[0])+1))\n",
    "        for i in row:\n",
    "            if i not in check_list:\n",
    "                return false\n",
    "            check_list.remove(i) \n",
    "            \n",
    "    for col in len(square[0]):\n",
    "        check_list = list(range(1, len(square[0])+1))\n",
    "        for j in square:\n",
    "            if j[col] not in check_list:\n",
    "                return false\n",
    "            check_list.remove(j[col])\n",
    "            \n",
    "    return true\n",
    "        "
   ]
  },
  {
   "cell_type": "code",
   "execution_count": null,
   "metadata": {},
   "outputs": [],
   "source": [
    "\"\"\"\n",
    "TASK 0:\n",
    "What is the first record of texts and what is the last record of calls?\n",
    "Print messages:\n",
    "\"First record of texts, <incoming number> texts <answering number> at time <time>\"\n",
    "\"Last record of calls, <incoming number> calls <answering number> at time <time>, lasting <during> seconds\"\n",
    "\"\"\""
   ]
  },
  {
   "cell_type": "code",
   "execution_count": 34,
   "metadata": {},
   "outputs": [],
   "source": [
    "import csv\n",
    "with open('texts.csv', 'r') as k:\n",
    "    reader = csv.reader(k)\n",
    "    texts = list(reader)\n",
    "\n",
    "with open('calls.csv', 'r') as f:\n",
    "    reader = csv.reader(f)\n",
    "    calls = list(reader)"
   ]
  },
  {
   "cell_type": "code",
   "execution_count": 8,
   "metadata": {},
   "outputs": [
    {
     "name": "stdout",
     "output_type": "stream",
     "text": [
      "First record of texts, 97424 22395 texts 90365 06212 at time 01-09-2016 06:03:22\n",
      "Last record of calls, 98447 62998 calls (080)46304537 at time 30-09-2016 23:57:15, lasting 2151 seconds\n"
     ]
    }
   ],
   "source": [
    "\n",
    "#if __name__ == '__main__':\n",
    "print(\"First record of texts, {} texts {} at time {}\".format(texts[0][0], texts[0][1], texts[0][2]))\n",
    "print(\"Last record of calls, {} calls {} at time {}, lasting {} seconds\".format(\n",
    "    calls[len(calls)-1][0], calls[len(calls)-1][1],\n",
    "    calls[len(calls)-1][2], calls[len(calls)-1][3]))"
   ]
  },
  {
   "cell_type": "code",
   "execution_count": 9,
   "metadata": {},
   "outputs": [
    {
     "name": "stdout",
     "output_type": "stream",
     "text": [
      "97424 22395 90365 06212 01-09-2016 06:03:22\n"
     ]
    }
   ],
   "source": [
    "print(texts[0][0], texts[0][1], texts[0][2])"
   ]
  },
  {
   "cell_type": "code",
   "execution_count": 10,
   "metadata": {},
   "outputs": [
    {
     "name": "stdout",
     "output_type": "stream",
     "text": [
      "98447 62998 2151\n"
     ]
    }
   ],
   "source": [
    "print(calls[len(calls)-1][0], calls[len(calls)-1][3])"
   ]
  },
  {
   "cell_type": "code",
   "execution_count": null,
   "metadata": {},
   "outputs": [],
   "source": [
    "\"\"\"\n",
    "TASK 1:\n",
    "How many different telephone numbers are there in the records? \n",
    "Print a message:\n",
    "\"There are <count> different telephone numbers in the records.\"\n",
    "\"\"\""
   ]
  },
  {
   "cell_type": "code",
   "execution_count": 31,
   "metadata": {},
   "outputs": [
    {
     "name": "stdout",
     "output_type": "stream",
     "text": [
      "551\n",
      "There are 570 different telephone numbers in the records.\n"
     ]
    }
   ],
   "source": [
    "def add_numbers(file: list, tel_numbers: set) -> set:\n",
    "    \"\"\"\n",
    "    Given a file adds all available numbers into a set\n",
    "    :param file: file containing telephone numbers\n",
    "    :param tel_numbers: variable used to contain the telephone numbers\n",
    "    :return: tel_numbers with file numbers extracted\n",
    "    \"\"\"\n",
    "    for column in [0, 1]:\n",
    "        temp_numbers = [data[column] for data in file]\n",
    "        tel_numbers.update(temp_numbers)\n",
    "    return tel_numbers\n",
    "\n",
    "\n",
    "if __name__ == '__main__':\n",
    "    tel_numbers = set()\n",
    "\n",
    "    tel_numbers = add_numbers(calls, tel_numbers)\n",
    "    print(len(tel_numbers))\n",
    "    tel_numbers = add_numbers(texts, tel_numbers)\n",
    "    \n",
    "    print(\"There are {} different telephone numbers in the records.\".format(len(tel_numbers)))\n"
   ]
  },
  {
   "cell_type": "code",
   "execution_count": 36,
   "metadata": {},
   "outputs": [
    {
     "name": "stdout",
     "output_type": "stream",
     "text": [
      "(080)43206415 spent the longest time, 4514 seconds, on the phone during September 2016.\n"
     ]
    }
   ],
   "source": [
    "from collections import defaultdict\n",
    "\n",
    "if __name__ == '__main__':\n",
    "    telephone_time = dict()\n",
    "    for call in calls:\n",
    "        for call_element in [0, 1]:\n",
    "            telephone_time[call[call_element]] =+ int(call[3])\n",
    "            #print(telephone_time[call[call_element]])\n",
    "\n",
    "    max_call_time = 0\n",
    "    max_telephone_num = ''\n",
    "\n",
    "    for telephone in telephone_time:\n",
    "        if telephone_time[telephone] >= max_call_time:\n",
    "            max_call_time = telephone_time[telephone]\n",
    "            max_telephone_num = telephone\n",
    "\n",
    "    print(\"{} spent the longest time, {} seconds, on the phone during September 2016.\".format(\n",
    "        max_telephone_num, max_call_time))\n"
   ]
  },
  {
   "cell_type": "code",
   "execution_count": null,
   "metadata": {},
   "outputs": [],
   "source": [
    "\n",
    "\"\"\"\n",
    "TASK 2: Which telephone number spent the longest time on the phone\n",
    "during the period? Don't forget that time spent answering a call is\n",
    "also time spent on the phone.\n",
    "Print a message:\n",
    "\"<telephone number> spent the longest time, <total time> seconds, on the phone during \n",
    "September 2016.\".\n",
    "\"\"\""
   ]
  },
  {
   "cell_type": "code",
   "execution_count": 37,
   "metadata": {},
   "outputs": [
    {
     "name": "stdout",
     "output_type": "stream",
     "text": [
      "(080)43206415 spent the longest time, 4514 seconds, on the phone during September 2016.\n"
     ]
    }
   ],
   "source": [
    "from collections import defaultdict\n",
    "\n",
    "if __name__=='__main__':\n",
    "    telephone_time=dict()\n",
    "    for call in calls:\n",
    "        for call_element in [0,1]:\n",
    "            telephone_time[call[call_element]] =+ int(call[3])\n",
    "            \n",
    "    max_call_time = 0\n",
    "    max_telephone_num = ''\n",
    "    \n",
    "    for telephone in telephone_time:\n",
    "        if telephone_time[telephone] >= max_call_time:\n",
    "            max_call_time = telephone_time[telephone]\n",
    "            max_telephone_num = telephone\n",
    "            \n",
    "    print(\"{} spent the longest time, {} seconds, on the phone during September 2016.\".format(max_telephone_num, max_call_time))"
   ]
  },
  {
   "cell_type": "code",
   "execution_count": null,
   "metadata": {},
   "outputs": [],
   "source": [
    "\"\"\"\n",
    "TASK 3:\n",
    "(080) is the area code for fixed line telephones in Bangalore.\n",
    "Fixed line numbers include parentheses, so Bangalore numbers\n",
    "have the form (080)xxxxxxx.)\n",
    "\n",
    "Part A: Find all of the area codes and mobile prefixes called by people\n",
    "in Bangalore.\n",
    " - Fixed lines start with an area code enclosed in brackets. The area\n",
    "   codes vary in length but always begin with 0.\n",
    " - Mobile numbers have no parentheses, but have a space in the middle\n",
    "   of the number to help readability. The prefix of a mobile number\n",
    "   is its first four digits, and they always start with 7, 8 or 9.\n",
    " - Telemarketers' numbers have no parentheses or space, but they start\n",
    "   with the area code 140.\n",
    "\n",
    "Print the answer as part of a message:\n",
    "\"The numbers called by people in Bangalore have codes:\"\n",
    " <list of codes>\n",
    "The list of codes should be print out one per line in lexicographic order with no duplicates.\n",
    "\n",
    "Part B: What percentage of calls from fixed lines in Bangalore are made\n",
    "to fixed lines also in Bangalore? In other words, of all the calls made\n",
    "from a number starting with \"(080)\", what percentage of these calls\n",
    "were made to a number also starting with \"(080)\"?\n",
    "\n",
    "Print the answer as a part of a message::\n",
    "\"<percentage> percent of calls from fixed lines in Bangalore are calls\n",
    "to other fixed lines in Bangalore.\"\n",
    "The percentage should have 2 decimal digits\n",
    "\"\"\""
   ]
  },
  {
   "cell_type": "code",
   "execution_count": null,
   "metadata": {},
   "outputs": [],
   "source": [
    "def bangalore_call(call):\n",
    "    return call[0][0:5] == '(080)'\n",
    "\n",
    "\n",
    "def extract_area_code(call):\n",
    "    call_other_interloc = call[1]\n",
    "\n",
    "    if call_other_interloc[:2] == '(0':  # Fix land case\n",
    "        return call_other_interloc.split(sep=')')[0] + ')'\n",
    "\n",
    "    if call_other_interloc[:3] == '140':  # Telemarketer case\n",
    "        return call_other_interloc[:3]\n",
    "\n",
    "    else:  # Mobile case\n",
    "        return call_other_interloc[:4]\n",
    "\n",
    "\n",
    "if __name__ == '__main__':\n",
    "    bng_called_prefix = []\n",
    "    # Part A\n",
    "    for call in calls:\n",
    "        if bangalore_call(call):\n",
    "            bng_called_prefix.append(extract_area_code(call))\n",
    "\n",
    "    bng_called_prefix_resum = list(set(bng_called_prefix))\n",
    "    bng_called_prefix_resum.sort()\n",
    "\n",
    "    print(\"\\n The numbers called by people in Bangalore have codes:\")\n",
    "    for related_prefix in bng_called_prefix_resum:\n",
    "        print(related_prefix)\n",
    "\n",
    "    # Part B\n",
    "    bng_recurrent_call_num = 0\n",
    "    for call_prefix in bng_called_prefix:\n",
    "        if call_prefix == \"(080)\":\n",
    "            bng_recurrent_call_num += 1\n",
    "\n",
    "    print(\"\\n {} percent of calls from fixed lines in Bangalore are calls to other fixed lines in Bangalore.\".format(\n",
    "       round(bng_recurrent_call_num/len(bng_called_prefix)*100, 2)))\n"
   ]
  },
  {
   "cell_type": "code",
   "execution_count": 39,
   "metadata": {},
   "outputs": [],
   "source": [
    "def banglore_call(call):\n",
    "    return call[0][0:5] == '(080)'"
   ]
  },
  {
   "cell_type": "code",
   "execution_count": 42,
   "metadata": {},
   "outputs": [],
   "source": [
    "def extract_area_code(call):\n",
    "    call_other_interloc = call[1]\n",
    " \n",
    "    if call_other_interloc[:2] == '(0': #fix land case\n",
    "        return call_other_interloc.split(sep=')')[0] + ')'\n",
    "    \n",
    "    if call_other_interloc[:3] == '140': # Telemarketer case\n",
    "        return call_other_interloc[:3]\n",
    "    \n",
    "    else: #mobile case\n",
    "        return call_other_interloc[:4]  "
   ]
  },
  {
   "cell_type": "code",
   "execution_count": 44,
   "metadata": {},
   "outputs": [
    {
     "name": "stdout",
     "output_type": "stream",
     "text": [
      "\n",
      " The numbers called by people in Bangalore have codes:\n",
      "(022)\n",
      "(040)\n",
      "(04344)\n",
      "(044)\n",
      "(04546)\n",
      "(0471)\n",
      "(080)\n",
      "(0821)\n",
      "7406\n",
      "7795\n",
      "7813\n",
      "7829\n",
      "8151\n",
      "8152\n",
      "8301\n",
      "8431\n",
      "8714\n",
      "9008\n",
      "9019\n",
      "9035\n",
      "9036\n",
      "9241\n",
      "9242\n",
      "9341\n",
      "9342\n",
      "9343\n",
      "9400\n",
      "9448\n",
      "9449\n",
      "9526\n",
      "9656\n",
      "9738\n",
      "9740\n",
      "9741\n",
      "9742\n",
      "9844\n",
      "9845\n",
      "9900\n",
      "9961\n",
      "\n",
      " 24.81 percent of calls from fixed lines in Bangalore are calls to other fixed lines in Bangalore.\n"
     ]
    }
   ],
   "source": [
    "if __name__ == '__main__':\n",
    "    bng_called_prefix = []\n",
    "    # Part A\n",
    "    for call in calls:\n",
    "        if bangalore_call(call):\n",
    "            bng_called_prefix.append(extract_area_code(call))\n",
    "\n",
    "    bng_called_prefix_resum = list(set(bng_called_prefix))\n",
    "    bng_called_prefix_resum.sort()\n",
    "\n",
    "    print(\"\\n The numbers called by people in Bangalore have codes:\")\n",
    "    for related_prefix in bng_called_prefix_resum:\n",
    "        print(related_prefix)\n",
    "\n",
    "    # Part B\n",
    "    bng_recurrent_call_num = 0\n",
    "    for call_prefix in bng_called_prefix:\n",
    "        if call_prefix == \"(080)\":\n",
    "            bng_recurrent_call_num += 1\n",
    "\n",
    "    print(\"\\n {} percent of calls from fixed lines in Bangalore are calls to other fixed lines in Bangalore.\".format(\n",
    "       round(bng_recurrent_call_num/len(bng_called_prefix)*100, 2)))\n"
   ]
  },
  {
   "cell_type": "raw",
   "metadata": {},
   "source": [
    "\"\"\"\n",
    "TASK 4:\n",
    "The telephone company want to identify numbers that might be doing\n",
    "telephone marketing. Create a set of possible telemarketers:\n",
    "these are numbers that make outgoing calls but never send texts,\n",
    "receive texts or receive incoming calls.\n",
    "\n",
    "Print a message:\n",
    "\"These numbers could be telemarketers: \"\n",
    "<list of numbers>\n",
    "The list of numbers should be print out one per line in lexicographic order with no duplicates.\n",
    "\"\"\""
   ]
  },
  {
   "cell_type": "code",
   "execution_count": 50,
   "metadata": {},
   "outputs": [
    {
     "name": "stdout",
     "output_type": "stream",
     "text": [
      "\n",
      " These numbers could be telemarketers:\n",
      "(022)37572285\n",
      "(022)65548497\n",
      "(022)68535788\n",
      "(022)69042431\n",
      "(040)30429041\n",
      "(044)22020822\n",
      "(0471)2171438\n",
      "(0471)6579079\n",
      "(080)20383942\n",
      "(080)25820765\n",
      "(080)31606520\n",
      "(080)40362016\n",
      "(080)60463379\n",
      "(080)60998034\n",
      "(080)62963633\n",
      "(080)64015211\n",
      "(080)69887826\n",
      "(0821)3257740\n",
      "1400481538\n",
      "1401747654\n",
      "1402316533\n",
      "1403072432\n",
      "1403579926\n",
      "1404073047\n",
      "1404368883\n",
      "1404787681\n",
      "1407539117\n",
      "1408371942\n",
      "1408409918\n",
      "1408672243\n",
      "1409421631\n",
      "1409668775\n",
      "1409994233\n",
      "74064 66270\n",
      "78291 94593\n",
      "87144 55014\n",
      "90351 90193\n",
      "92414 69419\n",
      "94495 03761\n",
      "97404 30456\n",
      "97407 84573\n",
      "97442 45192\n",
      "99617 25274\n"
     ]
    }
   ],
   "source": [
    "if __name__ == '__main__':\n",
    "    call_senders = set([data[0] for data in calls])\n",
    "    call_receivers = set([data[1] for data in calls])\n",
    "    message_senders = set([data[0] for data in texts])\n",
    "    message_receivers = set([data[1] for data in texts])\n",
    "\n",
    "    call_senders_susp = []\n",
    "\n",
    "    for call_sender in call_senders:\n",
    "        if (call_sender not in call_receivers and call_sender not in message_senders and\n",
    "                call_sender not in message_receivers):\n",
    "            call_senders_susp.append(call_sender)\n",
    "\n",
    "    call_senders_susp.sort()\n",
    "\n",
    "    print(\"\\n These numbers could be telemarketers:\")\n",
    "    for call_senser_susp in call_senders_susp:\n",
    "        print(call_senser_susp)"
   ]
  },
  {
   "cell_type": "code",
   "execution_count": null,
   "metadata": {},
   "outputs": [],
   "source": []
  }
 ],
 "metadata": {
  "kernelspec": {
   "display_name": "Python 3",
   "language": "python",
   "name": "python3"
  },
  "language_info": {
   "codemirror_mode": {
    "name": "ipython",
    "version": 3
   },
   "file_extension": ".py",
   "mimetype": "text/x-python",
   "name": "python",
   "nbconvert_exporter": "python",
   "pygments_lexer": "ipython3",
   "version": "3.7.4"
  }
 },
 "nbformat": 4,
 "nbformat_minor": 2
}
